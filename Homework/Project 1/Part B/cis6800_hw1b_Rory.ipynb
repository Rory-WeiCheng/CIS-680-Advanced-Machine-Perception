{
  "nbformat": 4,
  "nbformat_minor": 0,
  "metadata": {
    "kernelspec": {
      "display_name": "Python 3",
      "language": "python",
      "name": "python3"
    },
    "language_info": {
      "codemirror_mode": {
        "name": "ipython",
        "version": 3
      },
      "file_extension": ".py",
      "mimetype": "text/x-python",
      "name": "python",
      "nbconvert_exporter": "python",
      "pygments_lexer": "ipython3",
      "version": "3.8.8"
    },
    "colab": {
      "provenance": [],
      "collapsed_sections": []
    }
  },
  "cells": [
    {
      "cell_type": "markdown",
      "metadata": {
        "pycharm": {
          "name": "#%% md\n"
        },
        "id": "_PGiTnKFFTNi"
      },
      "source": [
        "# CIS6800: Project 1b: Deep Learning Basics Part B\n",
        "\n",
        "### Instructions:\n",
        "* This is an individual assignment. Collaborating with others is not permitted.\n",
        "* There is no single answer to most problems in deep learning, therefore the questions will often be underspecified. You need to fill in the blanks and submit a solution that solves the (practical) problem. Document the choices (hyperparameters, features, neural network architectures, etc.) you made where specified.\n",
        "* All the code should be written in Python. You should only use PyTorch to complete this project.\n"
      ]
    },
    {
      "cell_type": "code",
      "metadata": {
        "pycharm": {
          "is_executing": true,
          "name": "#%%\n"
        },
        "id": "Q41jvpsZFTNn",
        "colab": {
          "base_uri": "https://localhost:8080/"
        },
        "outputId": "444766b6-7731-4576-85e6-f8f431b1cf84"
      },
      "source": [
        "import torch\n",
        "from torch import nn\n",
        "import torch.nn.functional as F\n",
        "import torchvision\n",
        "import matplotlib.pyplot as plt\n",
        "import numpy as np\n",
        "\n",
        "%matplotlib inline\n",
        "rng_seed = 1144\n",
        "\n",
        "# Download MNIST\n",
        "torchvision.datasets.MNIST('.', download=True)"
      ],
      "execution_count": 5,
      "outputs": [
        {
          "output_type": "execute_result",
          "data": {
            "text/plain": [
              "Dataset MNIST\n",
              "    Number of datapoints: 60000\n",
              "    Root location: .\n",
              "    Split: Train"
            ]
          },
          "metadata": {},
          "execution_count": 5
        }
      ]
    },
    {
      "cell_type": "markdown",
      "metadata": {
        "pycharm": {
          "name": "#%% md\n"
        },
        "id": "BxU8GMDlFTNo"
      },
      "source": [
        "## 4. Adversarial Images (30%)\n",
        "In this part you will see how you can use the gradients of the network to generate adversarial\n",
        "images. Using these images that look almost identical the original you will be able to fool\n",
        "different neural networks. You will also see that these images also affect different neural\n",
        "networks and expose a security issue of CNNs that malicious users can take advantage of.\n",
        "An example is shown in Figure 4. You are encouraged to read the relevant papers [1, 2]\n",
        "before solving this part.\n",
        "\n",
        "<div><img src=\"https://github.com/LukasZhornyak/CIS680_files/raw/main/HW1/images/fig4.png\"/></div>\n",
        "\n",
        "<center>Figure 4: An adversarial example demonstrated in [1].</center>"
      ]
    },
    {
      "cell_type": "markdown",
      "metadata": {
        "id": "Ol1GPUaqFTNp"
      },
      "source": [
        "1. (10%) Use the trained network from question 3 to generate adversarial images with\n",
        "constraints. The constraints that you have are:\n",
        "\n",
        "  1. You are not allowed to erase parts of the image, i.e. $I_\\text{pert} \\ge I$ at each pixel location.\n",
        "  2. The perturbed image has to take valid values, i.e. $-1 \\le I_\\text{pert} \\le 1$.\n",
        "\n",
        "  The algorithm works as follows:\n",
        "  \n",
        "  1. Let $I$ be a test image of your dataset that you want to perturb that is classified correctly by the network. Let $I_\\epsilon$ be the perturbation that you should initialize\n",
        "with zeros.\n",
        "  2. Feed $I_\\text{pert} = I + I_\\epsilon$ in the network.\n",
        "  3. Calculate the loss given the ground truth label ($y_\\mathrm{gt}$). Let the loss be $L(x,y |\\theta)$ where $\\theta$ are the learned weights.\n",
        "  4. Compute the gradients with respect to $I_\\text{pert}$, i.e., $\\nabla_{I_\\text{pert}} L(I_\\text{pert}, y_\\mathrm{gt} | \\theta)$. Using backpropagation, compute $\\nabla_{I_\\epsilon} L(I_\\epsilon,y_\\mathrm{gt} | \\theta)$, i.e. the gradients with respect to the perturbation.\n",
        "  5. Use the Fast Gradient Sign method to update the perturbation, i.e., $I_\\epsilon = I_\\epsilon + \\epsilon\\,\\text{sign}(\\nabla_{I_\\epsilon} L(I_\\epsilon, y_\\mathrm{gt}))$, where $\\epsilon$ is a small constant of your choice.\n",
        "  6. Repeat A-D until the network classify the input image $I_\\text{pert}$ as an arbitrary\n",
        "wrong category with confidence (probability) at least $90\\%$.\n",
        "\n",
        "  Generate 2 examples of adversarial images. Describe the difference between the adversarial images and the original images."
      ]
    },
    {
      "cell_type": "code",
      "metadata": {
        "tags": [],
        "id": "w4oRChtNFTNp"
      },
      "source": [
        "# Setups and Initializations for training\n",
        "# CUDA for PyTorch\n",
        "use_cuda = torch.cuda.is_available()\n",
        "device = torch.device(\"cuda:0\" if use_cuda else \"cpu\")\n",
        "# Create your network here (do not change this name)\n",
        "class DigitClassification(torch.nn.Module):\n",
        "  def __init__(self):\n",
        "      super(DigitClassification,self).__init__()\n",
        "      # Conv. and Pool. Layer 1\n",
        "      # Conv1 Input: 28*28*1, Kernel: 5*5*32 \n",
        "        # Padding 'same': means the output has the same size with input. Padding size: 5//2=2 (or floor(5/2))\n",
        "        # Output: 28*28*32, i.e. floor((W-K+2P)/S)+1 and floor((H-K+2P)/S)+1\n",
        "      # Pool1 Input: 28*28*32, Kernel: 2*2, Stride: 2, Output: 14*14*32\n",
        "      self.layer1 = nn.Sequential()\n",
        "      self.layer1.add_module(\"Conv1\", nn.Conv2d(in_channels=1, out_channels=32, kernel_size=5, padding='same'))\n",
        "      self.layer1.add_module(\"BN1\", nn.BatchNorm2d(num_features=32))\n",
        "      self.layer1.add_module(\"ReLu1\", nn.ReLU())\n",
        "      self.layer1.add_module(\"Pool1\",nn.AvgPool2d(kernel_size=2, stride=2, padding=0))\n",
        "\n",
        "      # Conv. and Pool Layer 2\n",
        "      # Conv2 Input: 14*14*32, Kernel: 5*5*32, Padding \"same\", Ouput: 14*14*32\n",
        "      # Pool2 Input: 14*14*32, Kernel: 2*2, Stride: 2, Output: 7*7*32\n",
        "      self.layer2 = nn.Sequential()\n",
        "      self.layer2.add_module(\"Conv2\", nn.Conv2d(in_channels=32, out_channels=32, kernel_size=5, padding='same'))\n",
        "      self.layer2.add_module(\"BN2\", nn.BatchNorm2d(num_features=32))\n",
        "      self.layer2.add_module(\"ReLu2\", nn.ReLU())\n",
        "      self.layer2.add_module(\"Pool2\",nn.AvgPool2d(kernel_size=2, stride=2, padding=0))\n",
        "\n",
        "      # Conv. and Pool Layer 3\n",
        "      # Conv3 Input: 7*7*32, Kernel: 5*5*64, Padding \"same\", Ouput: 7*7*64\n",
        "      # Pool3 Input: 7*7*64, Kernel: 2*2, Stride: 2, Output: 3*3*64\n",
        "      self.layer3 = nn.Sequential()\n",
        "      self.layer3.add_module(\"Conv3\", nn.Conv2d(in_channels=32, out_channels=64, kernel_size=5, padding='same'))\n",
        "      self.layer3.add_module(\"BN3\", nn.BatchNorm2d(num_features=64))\n",
        "      self.layer3.add_module(\"ReLu3\", nn.ReLU())\n",
        "      self.layer3.add_module(\"Pool3\",nn.AvgPool2d(kernel_size=2, stride=2, padding=0))\n",
        "\n",
        "      # Fully Connected 1\n",
        "      # Input: 3*3*64, Ouput: 64\n",
        "      self.fullycon1 = nn.Sequential()\n",
        "      self.fullycon1.add_module(\"FC1\", nn.Linear(in_features=3 * 3 * 64, out_features=64))\n",
        "      self.fullycon1.add_module(\"FC1BN\", nn.BatchNorm1d(num_features=64))\n",
        "      self.fullycon1.add_module(\"FC1ReLu\", nn.ReLU())\n",
        "\n",
        "      # Fully Connected 2\n",
        "      # Input: 64, Ouput: 10\n",
        "      self.fullycon2 = nn.Sequential()\n",
        "      self.fullycon2.add_module(\"FC2\", nn.Linear(in_features=64, out_features=10))\n",
        "\n",
        "  def forward(self, x):\n",
        "    x = self.layer1(x)\n",
        "    x = self.layer2(x)\n",
        "    x = self.layer3(x)\n",
        "    x = x.view (-1, 3 * 3 * 64)\n",
        "    x = self.fullycon1(x)\n",
        "    x = self.fullycon2(x)\n",
        "    return x\n"
      ],
      "execution_count": 6,
      "outputs": []
    },
    {
      "cell_type": "code",
      "metadata": {
        "tags": [],
        "id": "bpN5t009FTNq",
        "colab": {
          "base_uri": "https://localhost:8080/",
          "height": 1000
        },
        "outputId": "0be23ae0-f57f-494f-b5c9-7d058974415d"
      },
      "source": [
        "# don't change the signature of this function (image, image_pert -> [N, 1, H, W])\n",
        "def arbitrary_adversary(model, image, original_label):\n",
        "  # Setups and Initializations for training\n",
        "  # CUDA for PyTorch\n",
        "  use_cuda = torch.cuda.is_available()\n",
        "  device = torch.device(\"cuda:0\" if use_cuda else \"cpu\")\n",
        "  perturbation = torch.zeros(image.size()).to(device)\n",
        "  perturbation.requires_grad = True\n",
        "  max_step = 1000\n",
        "  eps = 0.02\n",
        "  for i in range(max_step):\n",
        "    # Start FGSM Attack, Follow the steps stated above\n",
        "    # perturbation : I_eps in HW document, image_per: I_pert in HW document\n",
        "    model.zero_grad()\n",
        "    # Contraints: take the valid values\n",
        "    output = model((image + perturbation).clamp(min=-1, max=1))\n",
        "    loss = F.cross_entropy(output, original_label)\n",
        "    loss.backward()\n",
        "    perturbation_grad = perturbation.grad.data\n",
        "    sign_perturbation_grad = perturbation_grad.sign()\n",
        "    # Contraints: perturbation should be positive (do not erase parts of the image)\n",
        "    # perturbation is a leaf tensor, so use .data to take the inplace operation\n",
        "    perturbation.data += eps * sign_perturbation_grad   \n",
        "    perturbation.data = perturbation.clamp(min=0)\n",
        "    # Contraints: take the valid values\n",
        "    image_pert = image + perturbation.data\n",
        "    image_pert = torch.clamp(image_pert, -1, 1)\n",
        "\n",
        "    # Predict and calculate the loss\n",
        "    output_pert = model(image_pert)\n",
        "    predicted = torch.max(output_pert.data, 1)[1]\n",
        "    confidence = torch.max(F.softmax(output_pert.data,dim=1))\n",
        "    if i % 10 == 1:\n",
        "      print('\\n Attack Iteration: {}, loss: {:.3f}, current_predict_label: {}\\n'.format(i-1,loss.detach().cpu().item(), \n",
        "      predicted.detach().cpu().item()))\n",
        "\n",
        "    if predicted.item() != original_label.item() and confidence >= 0.90:\n",
        "      print(\"\\n Attack Iteration: {}, misclassified label: {}, Confidence: {} \".format(i-1, predicted.detach().cpu().item(),confidence))\n",
        "      image_pert = image_pert.detach().cpu()\n",
        "      break\n",
        "  return image_pert\n",
        "\n",
        "# load two pictures and generate the adversarial images\n",
        "# Setps for image loaders. Normalize the input to (-1,1)\n",
        "\n",
        "transform = torchvision.transforms.Compose([\n",
        "    torchvision.transforms.ToTensor(),\n",
        "    torchvision.transforms.Normalize((0.5), (0.5))])\n",
        "\n",
        "image_loader = torch.utils.data.DataLoader(\n",
        "    torchvision.datasets.MNIST(root='.', train=False, download=True, transform=transform),\n",
        "    batch_size=1, shuffle=True)\n",
        "\n",
        "# Setups and Initializations for training\n",
        "# CUDA for PyTorch\n",
        "use_cuda = torch.cuda.is_available()\n",
        "device = torch.device(\"cuda:0\" if use_cuda else \"cpu\")\n",
        "# load the model\n",
        "model_path = 'model.pth'\n",
        "# Instantiate the network\n",
        "model = DigitClassification().to(device)\n",
        "# load the parameters saved\n",
        "model.eval().load_state_dict(torch.load(model_path, map_location='cpu'))\n",
        "cnt=0\n",
        "\n",
        "for i in range(100):\n",
        "  image_iterator=iter(image_loader)\n",
        "  image, label = image_iterator.next()\n",
        "  image, label = image.to(device), label.to(device)\n",
        "  output = model(image)\n",
        "  predicted = torch.max(output.data, 1)[1]\n",
        "  # If the initial prediction is wrong, dont bother attacking, just move on\n",
        "  if predicted.item() != label.item():\n",
        "    continue\n",
        "  # Display predicted images \n",
        "  print(\"true label: {} \".format(predicted.detach().cpu().item()))\n",
        "  plt.imshow(np.squeeze(image.detach().cpu()))\n",
        "  plt.show()\n",
        "  # generate adversarial images\n",
        "  image_pert = arbitrary_adversary(model=model, image=image, original_label=label)\n",
        "  # Display images\n",
        "  image_pert = np.squeeze(image_pert)\n",
        "  plt.imshow(image_pert)\n",
        "  plt.show()\n",
        "  cnt += 1\n",
        "  if cnt == 2:\n",
        "    break\n"
      ],
      "execution_count": 7,
      "outputs": [
        {
          "output_type": "stream",
          "name": "stdout",
          "text": [
            "true label: 3 \n"
          ]
        },
        {
          "output_type": "display_data",
          "data": {
            "text/plain": [
              "<Figure size 432x288 with 1 Axes>"
            ],
            "image/png": "[encoded data removed]"
          },
          "metadata": {
            "needs_background": "light"
          }
        },
        {
          "output_type": "stream",
          "name": "stdout",
          "text": [
            "\n",
            " Attack Iteration: 0, loss: 0.000, current_predict_label: 3\n",
            "\n",
            "\n",
            " Attack Iteration: 10, loss: 2.178, current_predict_label: 8\n",
            "\n",
            "\n",
            " Attack Iteration: 10, misclassified label: 8, Confidence: 0.9561433792114258 \n"
          ]
        },
        {
          "output_type": "display_data",
          "data": {
            "text/plain": [
              "<Figure size 432x288 with 1 Axes>"
            ],
            "image/png": "[encoded data removed]"
          },
          "metadata": {
            "needs_background": "light"
          }
        },
        {
          "output_type": "stream",
          "name": "stdout",
          "text": [
            "true label: 8 \n"
          ]
        },
        {
          "output_type": "display_data",
          "data": {
            "text/plain": [
              "<Figure size 432x288 with 1 Axes>"
            ],
            "image/png": "[encoded data removed]"
          },
          "metadata": {
            "needs_background": "light"
          }
        },
        {
          "output_type": "stream",
          "name": "stdout",
          "text": [
            "\n",
            " Attack Iteration: 0, loss: 0.000, current_predict_label: 8\n",
            "\n",
            "\n",
            " Attack Iteration: 10, loss: 0.052, current_predict_label: 8\n",
            "\n",
            "\n",
            " Attack Iteration: 15, misclassified label: 4, Confidence: 0.9158722758293152 \n"
          ]
        },
        {
          "output_type": "display_data",
          "data": {
            "text/plain": [
              "<Figure size 432x288 with 1 Axes>"
            ],
            "image/png": "[encoded data removed]"
          },
          "metadata": {
            "needs_background": "light"
          }
        }
      ]
    },
    {
      "cell_type": "markdown",
      "source": [
        "The first image is labeled 0 and the network originally labeled it correctly. After we purturbated the image, the network now labeled it as 6. Similarly, the second is 6 originally, and labeled 8 after perturbation. However, if we observe the images before and after the perturbation, we can see that the \"main\" part of the image (the digit part) does not change much intuitively. While through the fast gradient method, we do find changes in the background. Though for human beings, we still focus on the digit itself, and do not get distracted, the perturbated images already fool the network."
      ],
      "metadata": {
        "id": "f0M_WoxNUOwl"
      }
    },
    {
      "cell_type": "markdown",
      "metadata": {
        "id": "zgJIt0UjFTNr"
      },
      "source": [
        "2. (10%) For a test image from the dataset, choose a target label yt that you want the network to classify your image as and compute a perturbed image. Note that this is different from what you are asked in part 1, because you want your network to believe that the image has a particular label, not just misclassify the image. You need to modify appropriately the loss function and then perform gradient descent as before. You should still use the constraints from part 1."
      ]
    },
    {
      "cell_type": "code",
      "metadata": {
        "tags": [],
        "id": "NnHjmnq1FTNr",
        "colab": {
          "base_uri": "https://localhost:8080/",
          "height": 1000
        },
        "outputId": "1dce6716-314d-4046-9168-8b562a85ff1d"
      },
      "source": [
        "# don't change the signature of this function (image, image_pert -> [N, 1, H, W])\n",
        "def targeted_adversary(model, image, target_label):\n",
        "  # Setups and Initializations for training\n",
        "  # CUDA for PyTorch\n",
        "  use_cuda = torch.cuda.is_available()\n",
        "  device = torch.device(\"cuda:0\" if use_cuda else \"cpu\")\n",
        "  perturbation = torch.zeros(image.size()).to(device)\n",
        "  perturbation.requires_grad = True\n",
        "  max_step = 100000\n",
        "  eps = 0.01\n",
        "  for i in range(max_step):\n",
        "    # Start FGSM Attack, Follow the steps stated above\n",
        "    # perturbation : I_eps in HW document, image_per: I_pert in HW document\n",
        "    model.zero_grad()\n",
        "    # Contraints: take the valid values\n",
        "    output = model((image + perturbation).clamp(min=-1, max=1))\n",
        "    # We want the network to believe that the image has that label, so the loss\n",
        "    # should be -L_CE so that they would be similar (or change the gradient ascent\n",
        "    # to gradient descent: perturbation.data -= eps * sign_perturbation_grad, they are equivalent)\n",
        "    loss = -F.cross_entropy(output, target_label)\n",
        "    loss.backward()\n",
        "    perturbation_grad = perturbation.grad.data\n",
        "    sign_perturbation_grad = perturbation_grad.sign()\n",
        "    # Contraints: perturbation should be positive (do not erase parts of the image)\n",
        "    # perturbation is a leaf tensor, so use .data to take the inplace operation\n",
        "    perturbation.data += eps * sign_perturbation_grad   \n",
        "    perturbation.data = perturbation.clamp(min=0)\n",
        "    # Contraints: take the valid values\n",
        "    image_pert = image + perturbation.data\n",
        "    image_pert = torch.clamp(image_pert, -1, 1)\n",
        "\n",
        "    # Predict and calculate the loss\n",
        "    output_pert = model(image_pert)\n",
        "    predicted = torch.max(output_pert.data, 1)[1]\n",
        "    confidence = torch.max(F.softmax(output_pert.data,dim=1))\n",
        "    if i % 1000 == 1:\n",
        "      print('\\n Attack Iteration: {}, loss: {:.3f}, current_predict_label: {}\\n'.format(i-1,loss.detach().cpu().item(), \n",
        "      predicted.detach().cpu().item()))\n",
        "\n",
        "    if predicted.item() == target_label.item() and confidence>= 0.9:\n",
        "      print('\\n Attack Iteration: {}, predict label: {},target label:{}, Confidence: {}\\n'.format(i-1,predicted.detach().cpu().item(), target_label.detach().cpu().item(),confidence))\n",
        "      image_pert = image_pert.detach().cpu()\n",
        "      break\n",
        "  return image_pert\n",
        "\n",
        "# Display images\n",
        "use_cuda = torch.cuda.is_available()\n",
        "device = torch.device(\"cuda:0\" if use_cuda else \"cpu\")\n",
        "# load the model\n",
        "model_path = 'model.pth'\n",
        "# Instantiate the network\n",
        "model = DigitClassification().to(device)\n",
        "# load the parameters saved\n",
        "model.eval().load_state_dict(torch.load(model_path, map_location='cpu'))\n",
        "# choose the label to be 1\n",
        "target_label=torch.tensor([1])\n",
        "cnt=0\n",
        "\n",
        "for i in range(100):\n",
        "  image_iterator=iter(image_loader)\n",
        "  image, label = image_iterator.next()\n",
        "  image, label = image.to(device), label.to(device)\n",
        "  output = model(image)\n",
        "  predicted = torch.max(output.data, 1)[1]\n",
        "  # If the initial prediction is wrong or just the targeted label , dont bother attacking, just move on\n",
        "  if predicted.item() != label.item() or predicted.item() == target_label.item():\n",
        "    continue\n",
        "  # Display predicted images \n",
        "  print(\"true label: {} \".format(predicted.detach().cpu().item()))\n",
        "  plt.imshow(np.squeeze(image.detach().cpu()))\n",
        "  plt.show()\n",
        "  # generate adversarial images\n",
        "  image_pert = targeted_adversary(model=model, image=image, target_label=target_label)\n",
        "  # Display images\n",
        "  image_pert = np.squeeze(image_pert)\n",
        "  plt.imshow(image_pert)\n",
        "  plt.show()\n",
        "  cnt += 1\n",
        "  if cnt == 2:\n",
        "    break\n"
      ],
      "execution_count": 8,
      "outputs": [
        {
          "output_type": "stream",
          "name": "stdout",
          "text": [
            "true label: 8 \n"
          ]
        },
        {
          "output_type": "display_data",
          "data": {
            "text/plain": [
              "<Figure size 432x288 with 1 Axes>"
            ],
            "image/png": "[encoded data removed]"
          },
          "metadata": {
            "needs_background": "light"
          }
        },
        {
          "output_type": "stream",
          "name": "stdout",
          "text": [
            "\n",
            " Attack Iteration: 0, loss: -19.653, current_predict_label: 8\n",
            "\n",
            "\n",
            " Attack Iteration: 104, predict label: 1,target label:1, Confidence: 0.9015573263168335\n",
            "\n"
          ]
        },
        {
          "output_type": "display_data",
          "data": {
            "text/plain": [
              "<Figure size 432x288 with 1 Axes>"
            ],
            "image/png": "[encoded data removed]"
          },
          "metadata": {
            "needs_background": "light"
          }
        },
        {
          "output_type": "stream",
          "name": "stdout",
          "text": [
            "true label: 6 \n"
          ]
        },
        {
          "output_type": "display_data",
          "data": {
            "text/plain": [
              "<Figure size 432x288 with 1 Axes>"
            ],
            "image/png": "[encoded data removed]"
          },
          "metadata": {
            "needs_background": "light"
          }
        },
        {
          "output_type": "stream",
          "name": "stdout",
          "text": [
            "\n",
            " Attack Iteration: 0, loss: -20.415, current_predict_label: 6\n",
            "\n",
            "\n",
            " Attack Iteration: 83, predict label: 1,target label:1, Confidence: 0.9039269089698792\n",
            "\n"
          ]
        },
        {
          "output_type": "display_data",
          "data": {
            "text/plain": [
              "<Figure size 432x288 with 1 Axes>"
            ],
            "image/png": "[encoded data removed]"
          },
          "metadata": {
            "needs_background": "light"
          }
        }
      ]
    },
    {
      "cell_type": "markdown",
      "metadata": {
        "id": "MIW1jhNhFTNs"
      },
      "source": [
        "<!-- BEGIN QUESTION -->\n",
        "\n",
        "3. (10%) Retrain the network from the previous problem. Use some of the adversarial images you generated in parts (1) and (2) and feed them in the retrained network. What do you observe?"
      ]
    },
    {
      "cell_type": "markdown",
      "metadata": {
        "id": "bNx3E3qXFTNs"
      },
      "source": [
        "_Type your answer here, replacing this text._"
      ]
    },
    {
      "cell_type": "code",
      "metadata": {
        "tags": [],
        "id": "Sbzhroq4FTNt",
        "colab": {
          "base_uri": "https://localhost:8080/"
        },
        "outputId": "bf056624-3ebc-48b5-af2f-1c2aadd2a451"
      },
      "source": [
        "# adversarial operations and generating new data\n",
        "def arbitrary_adversary(model, image, original_label):\n",
        "  use_cuda = torch.cuda.is_available()\n",
        "  device = torch.device(\"cuda:0\" if use_cuda else \"cpu\")\n",
        "  perturbation = torch.zeros(image.size()).to(device)\n",
        "  perturbation.requires_grad = True\n",
        "  max_step = 1000\n",
        "  eps = 0.02\n",
        "  for i in range(max_step):\n",
        "    model.zero_grad()\n",
        "    output = model((image + perturbation).clamp(min=-1, max=1))\n",
        "    loss = F.cross_entropy(output, original_label)\n",
        "    loss.backward()\n",
        "    perturbation_grad = perturbation.grad.data\n",
        "    sign_perturbation_grad = perturbation_grad.sign()\n",
        "    perturbation.data += eps * sign_perturbation_grad   \n",
        "    perturbation.data = perturbation.clamp(min=0)\n",
        "    image_pert = image + perturbation.data\n",
        "    image_pert = torch.clamp(image_pert, -1, 1)\n",
        "    output_pert = model(image_pert)\n",
        "    predicted = torch.max(output_pert.data, 1)[1]\n",
        "    confidence = torch.max(F.softmax(output_pert.data,dim=1))\n",
        "    if predicted.item() != original_label.item() and confidence >= 0.90:\n",
        "      image_pert = image_pert.detach().cpu()\n",
        "      break\n",
        "  return image_pert\n",
        "\n",
        "def targeted_adversary(model, image, target_label):\n",
        "  use_cuda = torch.cuda.is_available()\n",
        "  device = torch.device(\"cuda:0\" if use_cuda else \"cpu\")\n",
        "  perturbation = torch.zeros(image.size()).to(device)\n",
        "  perturbation.requires_grad = True\n",
        "  max_step = 100000\n",
        "  eps = 0.01\n",
        "  for i in range(max_step):\n",
        "    model.zero_grad()\n",
        "    output = model((image + perturbation).clamp(min=-1, max=1))\n",
        "    loss = -F.cross_entropy(output, target_label)\n",
        "    loss.backward()\n",
        "    perturbation_grad = perturbation.grad.data\n",
        "    sign_perturbation_grad = perturbation_grad.sign()\n",
        "    perturbation.data += eps * sign_perturbation_grad   \n",
        "    perturbation.data = perturbation.clamp(min=0)\n",
        "    image_pert = image + perturbation.data\n",
        "    image_pert = torch.clamp(image_pert, -1, 1)\n",
        "    output_pert = model(image_pert)\n",
        "    predicted = torch.max(output_pert.data, 1)[1]\n",
        "    confidence = torch.max(F.softmax(output_pert.data,dim=1))\n",
        "    if predicted.item() == target_label.item() and confidence>= 0.9:\n",
        "      image_pert = image_pert.detach().cpu()\n",
        "      break\n",
        "  return image_pert\n",
        "\n",
        "def batch_image_pert(model, image_batch, label_batch, type='arbitrary', target_label=None):\n",
        "  # This function is used to generate batch of perturbated image to train the netwok\n",
        "  # type can be either arbitrary or targeted, if targeted is assigned, target_label should also be assigned\n",
        "  image_pert_batch = torch.zeros_like(image_batch[0][None])\n",
        "  label_pert_batch = torch.zeros_like(label_batch[0][None])\n",
        "  for image, label in zip(image_batch, label_batch):\n",
        "    image = image[None]\n",
        "    label = label[None]\n",
        "    # print(label)\n",
        "    if type == 'arbitrary':\n",
        "      image_pert = arbitrary_adversary(model=model, image=image, original_label=label)\n",
        "    else:\n",
        "      image_pert = targeted_adversary(model, image, target_label=target_label)\n",
        "    label_pert = torch.argmax(model(image_pert), dim=1)\n",
        "    image_pert_batch = torch.cat((image_pert_batch,image_pert), dim=0)\n",
        "    label_pert_batch = torch.cat((label_pert_batch,label_pert), dim=0)\n",
        "  return image_pert_batch[1:, :, :, :], label_pert_batch[1:]\n",
        "\n",
        "transform = torchvision.transforms.Compose([\n",
        "    torchvision.transforms.ToTensor(),\n",
        "    torchvision.transforms.Normalize((0.5), (0.5))])\n",
        "\n",
        "image_loader = torch.utils.data.DataLoader(\n",
        "    torchvision.datasets.MNIST(root='.', train=False, download=True, transform=transform),\n",
        "    batch_size=2000, shuffle=True)\n",
        "\n",
        "# generate 2000 adversirial images for retraining, 1500 would be mixed in orginial minist trainning set, the other 500 would be used for testing\n",
        "# comment for sake of not running timeout on aotuograder, uncomment to see full code\n",
        "'''\n",
        "image_batch, label_batch = next(iter(image_loader))\n",
        "image_pert_batch, label_pert_batch = batch_image_pert(model, image_batch, label_batch)\n",
        "print(label_batch)\n",
        "print(label_pert_batch)\n",
        "# make sure the image is really attacked\n",
        "print(label_batch.eq(label_pert_batch).sum().item()\n",
        "'''"
      ],
      "execution_count": null,
      "outputs": [
        {
          "output_type": "stream",
          "name": "stdout",
          "text": [
            "tensor([4, 8, 9,  ..., 7, 1, 1])\n",
            "tensor([9, 9, 4,  ..., 2, 4, 7])\n",
            "0\n"
          ]
        }
      ]
    },
    {
      "cell_type": "code",
      "source": [
        "# define training and testing process for adverserial datasets\n",
        "def train_adv(Net, device, train_loader, optimizer, criterion, epoch, display_interval, train_pert, train_label):\n",
        "  Net.train()\n",
        "  running_loss = 0\n",
        "  running_correct = 0\n",
        "  cnt=0\n",
        "  for batch_index, (inputs, labels) in enumerate(train_loader,0):\n",
        "    inputs, labels = inputs.to(device), labels.to(device)\n",
        "    optimizer.zero_grad()   # remember to clear the gradients\n",
        "    outputs = Net(inputs)\n",
        "    loss = criterion(outputs, labels)\n",
        "    loss.backward()\n",
        "    running_loss += loss.item() * inputs.size(0)\n",
        "    optimizer.step()\n",
        "    pred_outputs = torch.max(outputs.data, dim=1)[1] # get the prediction\n",
        "    running_correct += (pred_outputs == labels).sum()\n",
        "    \n",
        "    inputs_adv, labels_adv = train_pert[(batch_index)*3:(batch_index+1)*3,:,:,:].to(device), train_label[(batch_index)*3:(batch_index+1)*3].to(device)\n",
        "    outputs = Net(inputs_adv)\n",
        "    loss = criterion(outputs, labels_adv)\n",
        "    loss.backward()\n",
        "    running_loss += loss.item() * inputs_adv.size(0)\n",
        "    optimizer.step()\n",
        "    pred_outputs = torch.max(outputs.data, dim=1)[1]\n",
        "    running_correct += (pred_outputs == labels_adv).sum()\n",
        "\n",
        "    # Print the training process\n",
        "    if batch_index % display_interval == 0:\n",
        "      print('Train Epoch : {} [{}/{} ({:.0f}%)]\\tLoss: {:.6f}\\t Accuracy:{:.3f}%'.format(\n",
        "          epoch+1, batch_index*(len(inputs)+3), len(train_loader.dataset)+1500, 100.*batch_index / len(train_loader),\n",
        "          loss.item(), float(running_correct*100) / float((train_batch_size+3)*(batch_index + 1))))\n",
        "  epoch_loss = running_loss / (len(train_loader.dataset)+1500)\n",
        "  epoch_accu = (running_correct) / (len(train_loader.dataset)+1500)\n",
        "  train_loss.append(epoch_loss)\n",
        "  train_accu.append(epoch_accu)\n",
        "  print('\\nTrain set: Avg. loss: {:.4f}, Accuracy: {}/{} ({:.0f}%)\\n'.format(\n",
        "        epoch_loss, running_correct, len(train_loader.dataset)+len(train_label),\n",
        "        100. * epoch_accu))\n",
        "\n",
        "def test_adv(Net, device, test_loader, criterion, epoch, test_pert, test_label):\n",
        "  Net.eval()\n",
        "  running_loss = 0\n",
        "  running_correct = 0\n",
        "  with torch.no_grad(): # normal MINST set\n",
        "    for batch_index, (inputs, labels) in enumerate(test_loader,0):\n",
        "      inputs, labels = inputs.to(device), labels.to(device)\n",
        "      outputs = Net(inputs)\n",
        "      loss = criterion(outputs, labels)\n",
        "      running_loss += loss.item() * inputs.size(0)\n",
        "      pred_outputs = torch.max(outputs.data, dim=1)[1]\n",
        "      running_correct += (pred_outputs == labels).sum()\n",
        "\n",
        "      inputs_adv, labels_adv = test_pert[(batch_index)*5:(batch_index+1)*5,:,:,:].to(device), test_label[(batch_index)*5:(batch_index+1)*5].to(device)\n",
        "      outputs = Net(inputs_adv)\n",
        "      loss = criterion(outputs, labels_adv)\n",
        "      running_loss += loss.item() * inputs_adv.size(0)\n",
        "      pred_outputs = torch.max(outputs.data, dim=1)[1]\n",
        "      running_correct += (pred_outputs == labels_adv).sum()\n",
        "      \n",
        "  epoch_loss =  running_loss / (len(test_loader.dataset)+500)\n",
        "  epoch_accu = (running_correct) / (len(test_loader.dataset)+500)\n",
        "  test_loss.append(epoch_loss)\n",
        "  test_accu.append(epoch_accu)\n",
        "  print('\\nTest set: Avg. loss: {:.4f}, Accuracy: {}/{} ({:.0f}%)\\n'.format(\n",
        "        epoch_loss, running_correct, len(test_loader.dataset)+len(test_label),\n",
        "        100. * epoch_accu))"
      ],
      "metadata": {
        "id": "zHLKCbLUakbu"
      },
      "execution_count": null,
      "outputs": []
    },
    {
      "cell_type": "code",
      "source": [
        "# split the generated datasets into train and test sets\n",
        "train_pert, train_label = image_pert_batch[0:1500,:,:,:], label_batch[0:1500]\n",
        "test_pert, test_label = image_pert_batch[1500:2000,:,:,:], label_batch[1500:2000]"
      ],
      "metadata": {
        "id": "YbAEjsoLHzTP"
      },
      "execution_count": null,
      "outputs": []
    },
    {
      "cell_type": "code",
      "source": [
        "# Retrain the network (same structure that of Project 1.a)\n",
        "use_cuda = torch.cuda.is_available()\n",
        "device = torch.device(\"cuda:0\" if use_cuda else \"cpu\")\n",
        "# load the old weight for comparison\n",
        "model_path = 'model.pth'\n",
        "Net_original = DigitClassification().to(device)\n",
        "Net_original.eval().load_state_dict(torch.load(model_path, map_location='cpu'))\n",
        "# New weights that would be trained and compared\n",
        "Net_adv = DigitClassification().to(device)\n",
        "LR = 0.01\n",
        "criterion = nn.CrossEntropyLoss()\n",
        "optimizer = torch.optim.Adam(Net_original.parameters(),lr=LR)\n",
        "optimizer_adv = torch.optim.Adam(Net_adv.parameters(),lr=LR)\n",
        "display_interval = 100\n",
        "train_loss = []\n",
        "train_accu = []\n",
        "test_loss = []\n",
        "test_accu = []\n",
        "train_batch_size=120\n",
        "test_batch_size=100\n",
        "\n",
        "train_loader = torch.utils.data.DataLoader(\n",
        "    torchvision.datasets.MNIST(root='.', train=True, download=True, transform=transform),\n",
        "    batch_size=train_batch_size, shuffle=True, num_workers=8)\n",
        "test_loader = torch.utils.data.DataLoader(\n",
        "    torchvision.datasets.MNIST(root='.', train=False, download=True, transform=transform),\n",
        "    batch_size=test_batch_size, shuffle=True, num_workers=8)\n",
        "# Net, device, train_loader has been setup before\n",
        "# comment for sake of not running timeout on aotuograder, uncomment to see full code\n",
        "'''\n",
        "num_epochs = 15\n",
        "for epoch in range(num_epochs):\n",
        "  train_adv(Net=Net_adv, device=device, train_loader=train_loader, optimizer=optimizer_adv, criterion=criterion, epoch=epoch, display_interval=display_interval,train_pert=train_pert,train_label=train_label)\n",
        "  test_adv(Net=Net_adv, device=device, test_loader=test_loader, criterion=criterion, epoch=epoch, test_pert=test_pert, test_label=test_label)\n",
        "test_adv(Net=Net_original, device=device, test_loader=test_loader, criterion=criterion, epoch=1, test_pert=test_pert, test_label=test_label)\n",
        "'''"
      ],
      "metadata": {
        "colab": {
          "base_uri": "https://localhost:8080/"
        },
        "id": "ZbC389KmBIOI",
        "outputId": "24519fb5-216b-41dc-e5c9-7caa470f1c20"
      },
      "execution_count": null,
      "outputs": [
        {
          "metadata": {
            "tags": null
          },
          "name": "stderr",
          "output_type": "stream",
          "text": [
            "/usr/local/lib/python3.7/dist-packages/torch/utils/data/dataloader.py:566: UserWarning: This DataLoader will create 8 worker processes in total. Our suggested max number of worker in current system is 2, which is smaller than what this DataLoader is going to create. Please be aware that excessive worker creation might get DataLoader running slow or even freeze, lower the worker number to avoid potential slowness/freeze if necessary.\n",
            "  cpuset_checked))\n"
          ]
        },
        {
          "output_type": "stream",
          "name": "stdout",
          "text": [
            "Train Epoch : 1 [0/61500 (0%)]\tLoss: 2.111973\t Accuracy:18.699%\n",
            "Train Epoch : 1 [12300/61500 (20%)]\tLoss: 0.117307\t Accuracy:81.035%\n",
            "Train Epoch : 1 [24600/61500 (40%)]\tLoss: 1.527567\t Accuracy:86.276%\n",
            "Train Epoch : 1 [36900/61500 (60%)]\tLoss: 0.134211\t Accuracy:87.772%\n",
            "Train Epoch : 1 [49200/61500 (80%)]\tLoss: 0.015776\t Accuracy:88.407%\n",
            "\n",
            "Train set: Avg. loss: 0.3468, Accuracy: 54921/61500 (89%)\n",
            "\n",
            "\n",
            "Test set: Avg. loss: 0.2225, Accuracy: 9738/10500 (93%)\n",
            "\n",
            "Train Epoch : 2 [0/61500 (0%)]\tLoss: 0.037879\t Accuracy:95.935%\n",
            "Train Epoch : 2 [12300/61500 (20%)]\tLoss: 0.159039\t Accuracy:92.288%\n",
            "Train Epoch : 2 [24600/61500 (40%)]\tLoss: 0.538116\t Accuracy:92.885%\n",
            "Train Epoch : 2 [36900/61500 (60%)]\tLoss: 0.145938\t Accuracy:93.374%\n",
            "Train Epoch : 2 [49200/61500 (80%)]\tLoss: 0.047084\t Accuracy:93.709%\n",
            "\n",
            "Train set: Avg. loss: 0.1919, Accuracy: 57840/61500 (94%)\n",
            "\n",
            "\n",
            "Test set: Avg. loss: 0.1706, Accuracy: 9912/10500 (94%)\n",
            "\n",
            "Train Epoch : 3 [0/61500 (0%)]\tLoss: 0.016802\t Accuracy:96.748%\n",
            "Train Epoch : 3 [12300/61500 (20%)]\tLoss: 0.062427\t Accuracy:94.687%\n",
            "Train Epoch : 3 [24600/61500 (40%)]\tLoss: 0.660312\t Accuracy:95.183%\n",
            "Train Epoch : 3 [36900/61500 (60%)]\tLoss: 0.014894\t Accuracy:95.314%\n",
            "Train Epoch : 3 [49200/61500 (80%)]\tLoss: 0.007417\t Accuracy:95.473%\n",
            "\n",
            "Train set: Avg. loss: 0.1397, Accuracy: 58832/61500 (96%)\n",
            "\n",
            "\n",
            "Test set: Avg. loss: 0.1200, Accuracy: 10090/10500 (96%)\n",
            "\n",
            "Train Epoch : 4 [0/61500 (0%)]\tLoss: 0.003359\t Accuracy:95.122%\n",
            "Train Epoch : 4 [12300/61500 (20%)]\tLoss: 0.028041\t Accuracy:96.176%\n",
            "Train Epoch : 4 [24600/61500 (40%)]\tLoss: 0.583249\t Accuracy:96.643%\n",
            "Train Epoch : 4 [36900/61500 (60%)]\tLoss: 0.006786\t Accuracy:96.451%\n",
            "Train Epoch : 4 [49200/61500 (80%)]\tLoss: 0.000381\t Accuracy:96.363%\n",
            "\n",
            "Train set: Avg. loss: 0.1192, Accuracy: 59298/61500 (96%)\n",
            "\n",
            "\n",
            "Test set: Avg. loss: 0.1285, Accuracy: 10051/10500 (96%)\n",
            "\n",
            "Train Epoch : 5 [0/61500 (0%)]\tLoss: 0.010847\t Accuracy:95.122%\n",
            "Train Epoch : 5 [12300/61500 (20%)]\tLoss: 0.019004\t Accuracy:96.442%\n",
            "Train Epoch : 5 [24600/61500 (40%)]\tLoss: 0.806139\t Accuracy:96.659%\n",
            "Train Epoch : 5 [36900/61500 (60%)]\tLoss: 0.007993\t Accuracy:96.629%\n",
            "Train Epoch : 5 [49200/61500 (80%)]\tLoss: 0.001817\t Accuracy:96.636%\n",
            "\n",
            "Train set: Avg. loss: 0.1082, Accuracy: 59508/61500 (97%)\n",
            "\n",
            "\n",
            "Test set: Avg. loss: 0.1321, Accuracy: 10059/10500 (96%)\n",
            "\n",
            "Train Epoch : 6 [0/61500 (0%)]\tLoss: 0.002663\t Accuracy:97.561%\n",
            "Train Epoch : 6 [12300/61500 (20%)]\tLoss: 0.046240\t Accuracy:96.321%\n",
            "Train Epoch : 6 [24600/61500 (40%)]\tLoss: 0.428337\t Accuracy:96.821%\n",
            "Train Epoch : 6 [36900/61500 (60%)]\tLoss: 0.231183\t Accuracy:96.880%\n",
            "Train Epoch : 6 [49200/61500 (80%)]\tLoss: 0.032955\t Accuracy:96.892%\n",
            "\n",
            "Train set: Avg. loss: 0.1010, Accuracy: 59629/61500 (97%)\n",
            "\n",
            "\n",
            "Test set: Avg. loss: 0.0662, Accuracy: 10271/10500 (98%)\n",
            "\n",
            "Train Epoch : 7 [0/61500 (0%)]\tLoss: 0.005374\t Accuracy:100.000%\n",
            "Train Epoch : 7 [12300/61500 (20%)]\tLoss: 0.002795\t Accuracy:96.989%\n",
            "Train Epoch : 7 [24600/61500 (40%)]\tLoss: 0.401394\t Accuracy:97.116%\n",
            "Train Epoch : 7 [36900/61500 (60%)]\tLoss: 0.004921\t Accuracy:97.086%\n",
            "Train Epoch : 7 [49200/61500 (80%)]\tLoss: 0.001681\t Accuracy:97.180%\n",
            "\n",
            "Train set: Avg. loss: 0.0880, Accuracy: 59855/61500 (97%)\n",
            "\n",
            "\n",
            "Test set: Avg. loss: 0.0832, Accuracy: 10260/10500 (98%)\n",
            "\n",
            "Train Epoch : 8 [0/61500 (0%)]\tLoss: 0.018280\t Accuracy:95.935%\n",
            "Train Epoch : 8 [12300/61500 (20%)]\tLoss: 0.003095\t Accuracy:96.965%\n",
            "Train Epoch : 8 [24600/61500 (40%)]\tLoss: 0.147481\t Accuracy:97.185%\n",
            "Train Epoch : 8 [36900/61500 (60%)]\tLoss: 0.000649\t Accuracy:97.215%\n",
            "Train Epoch : 8 [49200/61500 (80%)]\tLoss: 0.003276\t Accuracy:97.168%\n",
            "\n",
            "Train set: Avg. loss: 0.0899, Accuracy: 59811/61500 (97%)\n",
            "\n",
            "\n",
            "Test set: Avg. loss: 0.0591, Accuracy: 10297/10500 (98%)\n",
            "\n",
            "Train Epoch : 9 [0/61500 (0%)]\tLoss: 0.005788\t Accuracy:96.748%\n",
            "Train Epoch : 9 [12300/61500 (20%)]\tLoss: 0.178693\t Accuracy:95.935%\n",
            "Train Epoch : 9 [24600/61500 (40%)]\tLoss: 0.094022\t Accuracy:96.780%\n",
            "Train Epoch : 9 [36900/61500 (60%)]\tLoss: 0.000843\t Accuracy:96.959%\n",
            "Train Epoch : 9 [49200/61500 (80%)]\tLoss: 0.002562\t Accuracy:97.046%\n",
            "\n",
            "Train set: Avg. loss: 0.0952, Accuracy: 59765/61500 (97%)\n",
            "\n",
            "\n",
            "Test set: Avg. loss: 0.0812, Accuracy: 10217/10500 (97%)\n",
            "\n",
            "Train Epoch : 10 [0/61500 (0%)]\tLoss: 0.001522\t Accuracy:98.374%\n",
            "Train Epoch : 10 [12300/61500 (20%)]\tLoss: 0.002417\t Accuracy:97.440%\n",
            "Train Epoch : 10 [24600/61500 (40%)]\tLoss: 0.343450\t Accuracy:97.634%\n",
            "Train Epoch : 10 [36900/61500 (60%)]\tLoss: 0.000194\t Accuracy:97.647%\n",
            "Train Epoch : 10 [49200/61500 (80%)]\tLoss: 0.000860\t Accuracy:97.417%\n",
            "\n",
            "Train set: Avg. loss: 0.0845, Accuracy: 59911/61500 (97%)\n",
            "\n",
            "\n",
            "Test set: Avg. loss: 0.0574, Accuracy: 10299/10500 (98%)\n",
            "\n",
            "Train Epoch : 11 [0/61500 (0%)]\tLoss: 0.018682\t Accuracy:99.187%\n",
            "Train Epoch : 11 [12300/61500 (20%)]\tLoss: 0.001341\t Accuracy:97.698%\n",
            "Train Epoch : 11 [24600/61500 (40%)]\tLoss: 0.082571\t Accuracy:97.779%\n",
            "Train Epoch : 11 [36900/61500 (60%)]\tLoss: 0.009424\t Accuracy:97.720%\n",
            "Train Epoch : 11 [49200/61500 (80%)]\tLoss: 0.000453\t Accuracy:97.869%\n",
            "\n",
            "Train set: Avg. loss: 0.0688, Accuracy: 60236/61500 (98%)\n",
            "\n",
            "\n",
            "Test set: Avg. loss: 0.0687, Accuracy: 10255/10500 (98%)\n",
            "\n",
            "Train Epoch : 12 [0/61500 (0%)]\tLoss: 0.001017\t Accuracy:98.374%\n",
            "Train Epoch : 12 [12300/61500 (20%)]\tLoss: 0.000083\t Accuracy:98.036%\n",
            "Train Epoch : 12 [24600/61500 (40%)]\tLoss: 0.217160\t Accuracy:98.091%\n",
            "Train Epoch : 12 [36900/61500 (60%)]\tLoss: 0.001215\t Accuracy:98.061%\n",
            "Train Epoch : 12 [49200/61500 (80%)]\tLoss: 0.002518\t Accuracy:98.090%\n",
            "\n",
            "Train set: Avg. loss: 0.0681, Accuracy: 60273/61500 (98%)\n",
            "\n",
            "\n",
            "Test set: Avg. loss: 0.0603, Accuracy: 10313/10500 (98%)\n",
            "\n",
            "Train Epoch : 13 [0/61500 (0%)]\tLoss: 0.000331\t Accuracy:100.000%\n",
            "Train Epoch : 13 [12300/61500 (20%)]\tLoss: 0.000042\t Accuracy:97.907%\n",
            "Train Epoch : 13 [24600/61500 (40%)]\tLoss: 0.011920\t Accuracy:97.982%\n",
            "Train Epoch : 13 [36900/61500 (60%)]\tLoss: 0.000265\t Accuracy:97.577%\n",
            "Train Epoch : 13 [49200/61500 (80%)]\tLoss: 0.000680\t Accuracy:97.502%\n",
            "\n",
            "Train set: Avg. loss: 0.0806, Accuracy: 60019/61500 (98%)\n",
            "\n",
            "\n",
            "Test set: Avg. loss: 0.0673, Accuracy: 10279/10500 (98%)\n",
            "\n",
            "Train Epoch : 14 [0/61500 (0%)]\tLoss: 0.000928\t Accuracy:99.187%\n",
            "Train Epoch : 14 [12300/61500 (20%)]\tLoss: 0.000229\t Accuracy:98.221%\n",
            "Train Epoch : 14 [24600/61500 (40%)]\tLoss: 0.054832\t Accuracy:98.249%\n",
            "Train Epoch : 14 [36900/61500 (60%)]\tLoss: 0.000019\t Accuracy:98.231%\n",
            "Train Epoch : 14 [49200/61500 (80%)]\tLoss: 0.008351\t Accuracy:98.125%\n",
            "\n",
            "Train set: Avg. loss: 0.0661, Accuracy: 60318/61500 (98%)\n",
            "\n",
            "\n",
            "Test set: Avg. loss: 0.0460, Accuracy: 10349/10500 (99%)\n",
            "\n",
            "Train Epoch : 15 [0/61500 (0%)]\tLoss: 0.000006\t Accuracy:97.561%\n",
            "Train Epoch : 15 [12300/61500 (20%)]\tLoss: 0.000017\t Accuracy:98.487%\n",
            "Train Epoch : 15 [24600/61500 (40%)]\tLoss: 0.321298\t Accuracy:98.398%\n",
            "Train Epoch : 15 [36900/61500 (60%)]\tLoss: 0.000025\t Accuracy:98.169%\n",
            "Train Epoch : 15 [49200/61500 (80%)]\tLoss: 0.000242\t Accuracy:98.202%\n",
            "\n",
            "Train set: Avg. loss: 0.0631, Accuracy: 60404/61500 (98%)\n",
            "\n",
            "\n",
            "Test set: Avg. loss: 0.0430, Accuracy: 10359/10500 (99%)\n",
            "\n",
            "\n",
            "Test set: Avg. loss: 0.2272, Accuracy: 9936/10500 (95%)\n",
            "\n"
          ]
        }
      ]
    },
    {
      "cell_type": "markdown",
      "source": [
        "The retrain and comparison setups are described below:\n",
        "1. **Dataset**: MNIST dataset is a large dataset. Therefore, 2000 adversarial images are randomly picked and generated from the MNIST dataset using the `arbitrary_adversary` function defined previously to provide sufficient attacks. The generated images are split into 1500 training images and 500 testing images. \n",
        "2. **Retraining setup:** For the retrained network, it has the same structure as that of Project 1.a, but the weights are trained from the new 61500 (60000 original+1500 adversarial) images. For sake of a fair comparison, the hyperparameters (except for the epochs) are set to be the same as Project 1.a\n",
        "2. **Test and Comparison:** To show the effect of thr adversary and how networks adapt to the attack. The original network (which is trained on 60000 MINIST training dataset and gets over 99% accuracy on 10000 MINIST testing dataset in Project 1.a) is loaded. The retrained and original networks would run the same 10500(10000 original+500 adversarial) test images and their performances would be compared.\n",
        "\n",
        "\n",
        "Observations:\n",
        "The processes and outcomes are shown in the above blocks\n",
        "1. First of all, with the same hyperparameter and network structure, the retrained network is much harder to train than the original network.  In project 1.a, it takes 10 epochs for the network to achieve 99% accuracy both on the training and testing set. In the retrained process, it would take 15 epochs for the network to first reach 98% accuracy on the training set and 99% accuracy on the testing set. This probably implies the effective attack caused by adversarial images.\n",
        "2. When the original network test the new testing set, it only gets 95% accuracy. Considering that the adversarial images take about 5% portion of the testing set, this probably means that the original network misclassifies most of the adversarial images. While the retrained network can achieve 99% accuracy. This phenomenon is understadable, since the gradient used to generate the adversarial images is derived from the original model, the attack itself is targeted at the model. So, when the weights or network structure changed, the influence faded.\n",
        "\n",
        "\n",
        "\n",
        "\n"
      ],
      "metadata": {
        "id": "QVbzBFSkEfnH"
      }
    },
    {
      "cell_type": "markdown",
      "metadata": {
        "id": "b5KpnmwiFTNu"
      },
      "source": [
        "<!-- END QUESTION -->\n",
        "\n",
        "## References\n",
        "<div><img src=\"https://github.com/LukasZhornyak/CIS680_files/raw/main/HW1/images/refs.png\"/, width=600\n",
        "         ></div>"
      ]
    },
    {
      "cell_type": "markdown",
      "metadata": {
        "id": "9S1HDcTOFTNu"
      },
      "source": [
        "## Submission\n",
        "\n",
        "Make sure you have run all cells in your notebook in order before you zip together your submission, so that all images/graphs appear in the output. \n",
        "\n",
        "For part (b), your submission should consist of two files: this notebook and the saved weights from question 3. There is no need to upload the new, retrained, weights.\n",
        "\n",
        "**Please save before exporting!**"
      ]
    }
  ]
}